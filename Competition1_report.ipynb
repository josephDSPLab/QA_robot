{
 "cells": [
  {
   "cell_type": "markdown",
   "metadata": {},
   "source": [
    "## Train a QA-Robot by Neural Network\n",
    "In this part, we train a neural network model for the QA-robot in competition 1. This part will be organized in three parts: (a) Word embedding model, (b) generating training data and computing the features, and (c) the graph and the session of our neural network."
   ]
  },
  {
   "cell_type": "markdown",
   "metadata": {},
   "source": [
    "### Word enbedding\n",
    "To process the natural language sentence, we have to encode each chinese word before training the neural network model. We choose FastText as the word embedding model. All the sentences in training data were partitioned into word level by jieba, and converted into the format which can be read by gensim fasttext model. "
   ]
  },
  {
   "cell_type": "code",
   "execution_count": null,
   "metadata": {
    "collapsed": true
   },
   "outputs": [],
   "source": [
    "# Processing training data as the same in the TA's example code and save in *.npy file format\n",
    "# Read in the processed and partitioned word file and convert it into the format of gensim\n",
    "import numpy as np\n",
    "cut_programs = np.load('cut_Programs.npy')\n",
    "cut_Question = np.load('cut_Questions.npy')\n",
    "print(sum([len(p) for p in cut_programs]))\n",
    "\n",
    "with open('split_word_Programs.txt', 'w', encoding='utf-8') as output:\n",
    "    for i, program in enumerate(programs):\n",
    "        episodes = len(program)\n",
    "        print('Processing the %d programs' % i)\n",
    "        for episode in range(episodes):\n",
    "            for line in cut_programs[i][episode]:\n",
    "                line_space = \" \".join(line)\n",
    "                output.write(line_space)\n",
    "                output.write('\\n')\n",
    "\n",
    "with open('split_word_Questions.txt', 'w', encoding='utf-8') as output:\n",
    "    n = len(questions)\n",
    "\n",
    "    for i in range(n):\n",
    "        for j in range(6):\n",
    "            for line in cut_Question[i][j]:\n",
    "                line_space = \" \".join(line)\n",
    "                output.write(line_space)\n",
    "                output.write('\\n')\n",
    "                \n",
    "# Train a fasttext model\n",
    "from gensim.models import word2vec, doc2vec, FastText\n",
    "import numpy as np\n",
    "\n",
    "vec_size = 128\n",
    "sentences = word2vec.LineSentence('split_word_Programs.txt')\n",
    "model = FastText(sentences, size=vec_size, window=5,min_count=1)\n",
    "model.save(\"fasttext\"+str(vec_size)+\".model\")"
   ]
  },
  {
   "cell_type": "markdown",
   "metadata": {},
   "source": [
    "### Generating training data\n",
    "To train a QA-Robot model by the corpus from the normal programs, the data should be transformed into 1 question and 6 answer candidates format to. We define two consecutive sentences are a pair of correct question and answer. With exclusively and randomly selected 5 sentences, a complete QA pair is formed. Due to the tediousness of the lengthy codes, the codes are not shown in this report. Please refer to `gen_data.py` and `gen_data_infer.py` for the details of implementation."
   ]
  },
  {
   "cell_type": "markdown",
   "metadata": {},
   "source": [
    "### Computing the features\n",
    "The most important problem of the feature extraction is how to deal with the variable length sentence. Therefore, we have tried 3 types of feature to unify the word vectors of different sentences:\n",
    "1. Padding the word vectors to the length which is equals to the maximun legnth of the sentence in the training data. The data are padded with **wrapping values** instead of **zeros** for avoiding the numerical imbalance. The dimension of this feature is [MAX_LEN, VECTOR_SIZE].\n",
    "2. Averaging all the word vectors (along the axis of words). The dimension of this feature is [VECTOR_SIZE].\n",
    "3. Calculating the standard deviation from all the word vectors of the sentence. The dimension of this feature is also [VECTOR_SIZE].\n",
    "4. Calculating the Word Mover's Distance (WMD) between the question and the answer candidate. The dimension of this feature is [1].\n",
    "This codes are part of `gen_data.py` and `gen_data_infer.py`. Note that `self.w2vembedd2` is a FastText model and `self.w2vembedd` is a Doc2Vec model which was not used in the final version.\n",
    "\n",
    "Several combinations of the features and corresponding were tested, more details and results will be discuessed in the next parts."
   ]
  },
  {
   "cell_type": "code",
   "execution_count": null,
   "metadata": {
    "collapsed": true
   },
   "outputs": [],
   "source": [
    "def sentence2vec(self, sentence_idx):\n",
    "    sentvec = sent = 0\n",
    "    word_c2 = word_c = 0\n",
    "    sent_sq = 0\n",
    "    wv_seq = np.empty([0,VECTOR_SIZE])\n",
    "    for i, w in enumerate(self.sentences[sentence_idx]):\n",
    "        if MAX_LEN <= word_c:\n",
    "\n",
    "            break\n",
    "        if w.isalnum():\n",
    "            try:\n",
    "                wv_seq = np.vstack([wv_seq, self.w2vembedd2.wv[[w]]])\n",
    "                word_c += 1\n",
    "            except KeyError:\n",
    "                pass\n",
    "            try:\n",
    "                sentvec += self.w2vembedd.wv[w]\n",
    "                #sent_var += self.w2vembedd2.wv[w]**2\n",
    "                word_c2 += 1\n",
    "            except KeyError:\n",
    "                pass\n",
    "    #sentvec= self.w2vembedd.infer_vector(self.sentences[sentence_idx])\n",
    "    if word_c > 0:\n",
    "        sent = np.mean(wv_seq,0)\n",
    "        sent_var = np.std(wv_seq,0)\n",
    "    if word_c2 > 0:\n",
    "        sentvec = sentvec / word_c2\n",
    "\n",
    "    #print(sentvec.shape, sent.shape)\n",
    "    return np.concatenate([sentvec,sent,sent_var], 0), wv_seq"
   ]
  },
  {
   "cell_type": "markdown",
   "metadata": {},
   "source": [
    "### The graph and the session of our neural network\n",
    "We assume that different types of feature preserve its characteristic. The following figure is the overal scheme of our model:\n",
    "![alt text](imagename.png \"Title\")"
   ]
  }
 ],
 "metadata": {
  "kernelspec": {
   "display_name": "Python 3",
   "language": "python",
   "name": "python3"
  },
  "language_info": {
   "codemirror_mode": {
    "name": "ipython",
    "version": 3
   },
   "file_extension": ".py",
   "mimetype": "text/x-python",
   "name": "python",
   "nbconvert_exporter": "python",
   "pygments_lexer": "ipython3",
   "version": "3.6.5"
  }
 },
 "nbformat": 4,
 "nbformat_minor": 2
}

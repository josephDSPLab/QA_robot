{
 "cells": [
  {
   "cell_type": "code",
   "execution_count": 7,
   "metadata": {},
   "outputs": [],
   "source": [
    "import pandas as pd\n",
    "import jieba\n",
    "\n",
    "NUM_PROGRAM = 8\n",
    "programs = []\n",
    "for i in range(1, NUM_PROGRAM + 1):\n",
    "    program = pd.read_csv('dataset/Program0%d.csv' % (i))\n",
    "\n",
    "    programs.append(program)\n",
    "\n",
    "# print(programs[0].loc[0]['Content'])\n",
    "questions = pd.read_csv('dataset/Question.csv')"
   ]
  },
  {
   "cell_type": "code",
   "execution_count": 2,
   "metadata": {},
   "outputs": [
    {
     "name": "stderr",
     "output_type": "stream",
     "text": [
      "Building prefix dict from C:\\Users\\AHG\\Desktop\\liao_thesis\\deep_learning\\Comp1\\dataset\\big5_dict.txt ...\n",
      "Loading model from cache C:\\Users\\AHG\\AppData\\Local\\Temp\\jieba.ub7f17bf6c5738a8b1273387a8a5209aa.cache\n"
     ]
    },
    {
     "name": "stdout",
     "output_type": "stream",
     "text": [
      "Processing the 0 programs\n"
     ]
    },
    {
     "name": "stderr",
     "output_type": "stream",
     "text": [
      "Loading model cost 0.450 seconds.\n",
      "Prefix dict has been built succesfully.\n"
     ]
    },
    {
     "name": "stdout",
     "output_type": "stream",
     "text": [
      "Processing the 1 programs\n",
      "Processing the 2 programs\n",
      "Processing the 3 programs\n",
      "Processing the 4 programs\n",
      "Processing the 5 programs\n",
      "Processing the 6 programs\n",
      "Processing the 7 programs\n",
      "8 programs\n",
      "1299 episodes in program 0\n",
      "635 lines in first episode of program 0\n"
     ]
    }
   ],
   "source": [
    "jieba.set_dictionary('dataset/big5_dict.txt')\n",
    "def jieba_lines(lines):\n",
    "    cut_lines = []\n",
    "\n",
    "    for line in lines:\n",
    "        cut_line = jieba.lcut(line)\n",
    "        cut_lines.append(cut_line)\n",
    "\n",
    "    return cut_lines\n",
    "cut_programs = []\n",
    "\n",
    "for i, program in enumerate(programs):\n",
    "    episodes = len(program)\n",
    "    cut_program = []\n",
    "    print('Processing the %d programs' % i)\n",
    "    for episode in range(episodes):\n",
    "        lines = program.loc[episode]['Content'].split('\\n')\n",
    "        cut_program.append(jieba_lines(lines))\n",
    "\n",
    "    cut_programs.append(cut_program)\n",
    "print(\"%d programs\" % len(cut_programs))\n",
    "print(\"%d episodes in program 0\" % len(cut_programs[0]))\n",
    "print(\"%d lines in first episode of program 0\" % len(cut_programs[0][0]))\n"
   ]
  },
  {
   "cell_type": "code",
   "execution_count": 3,
   "metadata": {},
   "outputs": [
    {
     "name": "stdout",
     "output_type": "stream",
     "text": [
      "8 programs\n",
      "1299 episodes in program 0\n",
      "635 lines in first episode of program 0\n",
      "\n",
      "first 3 lines in 1st episode of program 0: \n",
      "[['還好', '天氣', '不錯'], ['昨天', '晚上', '的', '流星雨'], ['我', '看到', '很多', '流星']]\n"
     ]
    }
   ],
   "source": [
    "\n",
    "print(\"%d programs\" % len(cut_programs))\n",
    "print(\"%d episodes in program 0\" % len(cut_programs[0]))\n",
    "print(\"%d lines in first episode of program 0\" % len(cut_programs[0][0]))\n",
    "\n",
    "print()\n",
    "print(\"first 3 lines in 1st episode of program 0: \")\n",
    "print(cut_programs[0][0][:3])"
   ]
  },
  {
   "cell_type": "code",
   "execution_count": 4,
   "metadata": {},
   "outputs": [
    {
     "name": "stdout",
     "output_type": "stream",
     "text": [
      "500 questions\n",
      "7\n",
      "[['媽給', '你', '送', '錢包', '來', '啦', ' ', '來', ' ', '你', '看', '一下', '是', '不', '是', '這個'], ['對', ' ', '就是', '這個', ' ', '你', '在', '哪裡', '找到', '它', '的'], []]\n",
      "['你', '看', ' ', '這是', '我', '新', '買', '的', '錢包']\n",
      "['我', '的', '錢包', '不見了', '啦']\n",
      "['以後', '上', '網咖', '的', '錢包', '在', '我', '身上']\n",
      "['什麼', '有', '錢包', '場']\n",
      "['早上', '你', '爸爸', '在', '車上', '找到', '的', ' ', '一定', '是', '前天', '你', '放學', '的', '時候', '掉', '在', '車上', '了']\n",
      "['我', '為什麼', '要給', '你們', '錢包']\n"
     ]
    }
   ],
   "source": [
    "cut_questions = []\n",
    "n = len(questions)\n",
    "\n",
    "for i in range(n):\n",
    "    cut_question = []\n",
    "    lines = questions.loc[i]['Question'].split('\\n')\n",
    "    cut_question.append(jieba_lines(lines))\n",
    "    \n",
    "    for j in range(6):\n",
    "        line = questions.loc[i]['Option%d' % (j)]\n",
    "        cut_question.append(jieba.lcut(line))\n",
    "    \n",
    "    cut_questions.append(cut_question)\n",
    "print(\"%d questions\" % len(cut_questions))\n",
    "print(len(cut_questions[0]))\n",
    "\n",
    "# 1 question\n",
    "print(cut_questions[0][0])\n",
    "\n",
    "# 6 optional reponses\n",
    "for i in range(1, 7):\n",
    "    print(cut_questions[0][i])"
   ]
  },
  {
   "cell_type": "code",
   "execution_count": null,
   "metadata": {},
   "outputs": [],
   "source": [
    "import numpy as np\n",
    "\n",
    "np.save('cut_Programs.npy', cut_programs)\n",
    "np.save('cut_Questions.npy', cut_questions)"
   ]
  },
  {
   "cell_type": "code",
   "execution_count": 13,
   "metadata": {},
   "outputs": [
    {
     "name": "stdout",
     "output_type": "stream",
     "text": [
      "2841\n"
     ]
    }
   ],
   "source": [
    "import numpy as np\n",
    "cut_programs = np.load('cut_Programs.npy')\n",
    "cut_Question = np.load('cut_Questions.npy')\n",
    "print(sum([len(p) for p in cut_programs]))"
   ]
  },
  {
   "cell_type": "code",
   "execution_count": 9,
   "metadata": {},
   "outputs": [
    {
     "name": "stdout",
     "output_type": "stream",
     "text": [
      "Processing the 0 programs\n",
      "Processing the 1 programs\n",
      "Processing the 2 programs\n",
      "Processing the 3 programs\n",
      "Processing the 4 programs\n",
      "Processing the 5 programs\n",
      "Processing the 6 programs\n",
      "Processing the 7 programs\n"
     ]
    }
   ],
   "source": [
    "with open('split_word_Programs.txt', 'w', encoding='utf-8') as output:\n",
    "    for i, program in enumerate(programs):\n",
    "        episodes = len(program)\n",
    "        print('Processing the %d programs' % i)\n",
    "        for episode in range(episodes):\n",
    "            for line in cut_programs[i][episode]:\n",
    "                line_space = \" \".join(line)\n",
    "                output.write(line_space)\n",
    "                output.write('\\n')"
   ]
  },
  {
   "cell_type": "code",
   "execution_count": 11,
   "metadata": {},
   "outputs": [],
   "source": [
    "with open('split_word_Questions.txt', 'w', encoding='utf-8') as output:\n",
    "    n = len(questions)\n",
    "\n",
    "    for i in range(n):\n",
    "        for j in range(6):\n",
    "            for line in cut_Question[i][j]:\n",
    "                line_space = \" \".join(line)\n",
    "                output.write(line_space)\n",
    "                output.write('\\n')"
   ]
  }
 ],
 "metadata": {
  "kernelspec": {
   "display_name": "Python 3",
   "language": "python",
   "name": "python3"
  },
  "language_info": {
   "codemirror_mode": {
    "name": "ipython",
    "version": 3
   },
   "file_extension": ".py",
   "mimetype": "text/x-python",
   "name": "python",
   "nbconvert_exporter": "python",
   "pygments_lexer": "ipython3",
   "version": "3.6.5"
  }
 },
 "nbformat": 4,
 "nbformat_minor": 2
}
